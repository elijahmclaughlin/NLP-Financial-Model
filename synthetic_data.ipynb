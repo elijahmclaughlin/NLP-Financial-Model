{
 "cells": [
  {
   "cell_type": "code",
   "execution_count": 1,
   "id": "37f65e97-5777-4b0c-8759-cd250709324b",
   "metadata": {},
   "outputs": [],
   "source": [
    "import csv\n",
    "import json\n",
    "from faker import Faker\n",
    "from random import randint, choice\n",
    "from datetime import datetime, timedelta"
   ]
  },
  {
   "cell_type": "code",
   "execution_count": 2,
   "id": "fe9d641a-3865-4c02-9224-1bf813601000",
   "metadata": {},
   "outputs": [],
   "source": [
    "fake = Faker()"
   ]
  },
  {
   "cell_type": "code",
   "execution_count": 3,
   "id": "6e7b33d6-8614-404c-be36-5c3a0cd881e0",
   "metadata": {},
   "outputs": [],
   "source": [
    "# lists of merchants and categories\n",
    "merchants = [\"Amazon\", \"Walmart\", \"Target\", \"Best Buy\", \"Apple\", \"Starbucks\", \"Nike\", \"Adidas\", \"Google\", \"Microsoft\", \"Sony\", \"Tesla\", \"Coca-Cola\", \"Pepsi\", \"Uber\"]\n",
    "categories = [\"Groceries\", \"Electronics\", \"Clothing\", \"Food and Beverage\", \"Entertainment\", \"Technology\", \"Travel\", \"Health and Fitness\"]"
   ]
  },
  {
   "cell_type": "code",
   "execution_count": 4,
   "id": "f5368654-4563-484c-9c00-463b45124ef1",
   "metadata": {},
   "outputs": [],
   "source": [
    "# Task 1: Generating Fake User Bank and Credit Card Transaction Data\n",
    "# generating a list of transaction data between two dates\n",
    "def generate_transaction_data(start_date, end_date, num_transactions):\n",
    "    \"\"\"\n",
    "    :param start_date: start date for the transactions.\n",
    "    :param end_date: end date for the transactions.\n",
    "    :param num_transactions: number of transactions to generate.\n",
    "    :return: list of dictionaries containing the transaction data.\n",
    "    \"\"\"\n",
    "    transaction_data = []\n",
    "\n",
    "    for _ in range(num_transactions):\n",
    "        transaction_date = fake.date_time_between_dates(datetime_start=start_date, datetime_end=end_date)\n",
    "        amount = round(randint(1, 1000) + randint(0, 99) / 100, 2)  # Random amount between 1 and 1000\n",
    "        merchant = choice(merchants)  # Randomly select a merchant from the predefined list\n",
    "        category = choice(categories)  # Randomly select a category from the predefined list\n",
    "\n",
    "        transaction = {\n",
    "            \"date\": transaction_date.strftime(\"%Y-%m-%d %H:%M:%S\"),\n",
    "            \"amount\": amount,\n",
    "            \"merchant\": merchant,\n",
    "            \"category\": category,\n",
    "        }\n",
    "        transaction_data.append(transaction)\n",
    "\n",
    "    return transaction_data"
   ]
  },
  {
   "cell_type": "code",
   "execution_count": 5,
   "id": "278029ac-bc61-4531-a3b3-00f5b8269db7",
   "metadata": {},
   "outputs": [],
   "source": [
    "# saving data to .csv file\n",
    "def save_to_csv(data, filename):\n",
    "    \"\"\"\n",
    "    :param data: data to save.\n",
    "    :param filename: name of the file to save the data to.\n",
    "    \"\"\"\n",
    "    try:\n",
    "        with open(filename, 'w', newline='') as csvfile:\n",
    "            fieldnames = [\"date\", \"amount\", \"merchant\", \"category\"]\n",
    "            writer = csv.DictWriter(csvfile, fieldnames=fieldnames)\n",
    "            writer.writeheader()\n",
    "            for row in data:\n",
    "                writer.writerow(row)\n",
    "    except Exception as e:\n",
    "        print(f\"Error saving data to CSV: {e}\")"
   ]
  },
  {
   "cell_type": "code",
   "execution_count": 6,
   "id": "bfa3d4c2-1404-4ac6-9229-cac65a0da67e",
   "metadata": {},
   "outputs": [],
   "source": [
    "# saving data to .json file\n",
    "def save_to_json(data, filename):\n",
    "    \"\"\"\n",
    "    :param data: data to save.\n",
    "    :param filename: name of the file to save the data to.\n",
    "    \"\"\"\n",
    "    try:\n",
    "        with open(filename, 'w') as jsonfile:\n",
    "            json.dump(data, jsonfile, indent=2)\n",
    "    except Exception as e:\n",
    "        print(f\"Error saving data to JSON: {e}\")"
   ]
  },
  {
   "cell_type": "code",
   "execution_count": 7,
   "id": "42717aba-9272-46a7-9d2c-0bdfbd0a78b7",
   "metadata": {},
   "outputs": [
    {
     "name": "stdout",
     "output_type": "stream",
     "text": [
      "Transaction data generated and saved to transaction_data.csv and transaction_data.json.\n"
     ]
    }
   ],
   "source": [
    "if __name__ == \"__main__\":\n",
    "    start_date = datetime.now() - timedelta(days=730)  # 24 months ago\n",
    "    end_date = datetime.now()\n",
    "    num_transactions = 1000\n",
    "\n",
    "    transaction_data = generate_transaction_data(start_date, end_date, num_transactions)\n",
    "\n",
    "    csv_filename = \"transaction_data.csv\"\n",
    "    json_filename = \"transaction_data.json\"\n",
    "\n",
    "    save_to_csv(transaction_data, csv_filename)\n",
    "    save_to_json(transaction_data, json_filename)\n",
    "\n",
    "    print(f\"Transaction data generated and saved to {csv_filename} and {json_filename}.\")"
   ]
  },
  {
   "cell_type": "code",
   "execution_count": null,
   "id": "092949d5-93fb-4573-adec-0886cafb1b12",
   "metadata": {},
   "outputs": [],
   "source": []
  }
 ],
 "metadata": {
  "kernelspec": {
   "display_name": "Python 3 (ipykernel)",
   "language": "python",
   "name": "python3"
  },
  "language_info": {
   "codemirror_mode": {
    "name": "ipython",
    "version": 3
   },
   "file_extension": ".py",
   "mimetype": "text/x-python",
   "name": "python",
   "nbconvert_exporter": "python",
   "pygments_lexer": "ipython3",
   "version": "3.8.18"
  }
 },
 "nbformat": 4,
 "nbformat_minor": 5
}
